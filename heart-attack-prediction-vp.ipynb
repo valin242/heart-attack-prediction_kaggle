{
 "cells": [
  {
   "cell_type": "code",
   "execution_count": 1,
   "id": "2e7f6ef1",
   "metadata": {
    "_cell_guid": "b1076dfc-b9ad-4769-8c92-a6c4dae69d19",
    "_uuid": "8f2839f25d086af736a60e9eeb907d3b93b6e0e5",
    "execution": {
     "iopub.execute_input": "2024-03-11T18:21:14.893239Z",
     "iopub.status.busy": "2024-03-11T18:21:14.892801Z",
     "iopub.status.idle": "2024-03-11T18:21:15.782152Z",
     "shell.execute_reply": "2024-03-11T18:21:15.781114Z"
    },
    "papermill": {
     "duration": 0.898331,
     "end_time": "2024-03-11T18:21:15.784961",
     "exception": false,
     "start_time": "2024-03-11T18:21:14.886630",
     "status": "completed"
    },
    "tags": []
   },
   "outputs": [
    {
     "name": "stdout",
     "output_type": "stream",
     "text": [
      "/kaggle/input/heart-health-stats-dataset/Heart_health.csv\n"
     ]
    }
   ],
   "source": [
    "# This Python 3 environment comes with many helpful analytics libraries installed\n",
    "# It is defined by the kaggle/python Docker image: https://github.com/kaggle/docker-python\n",
    "# For example, here's several helpful packages to load\n",
    "\n",
    "import numpy as np # linear algebra\n",
    "import pandas as pd # data processing, CSV file I/O (e.g. pd.read_csv)\n",
    "\n",
    "# Input data files are available in the read-only \"../input/\" directory\n",
    "# For example, running this (by clicking run or pressing Shift+Enter) will list all files under the input directory\n",
    "\n",
    "import os\n",
    "for dirname, _, filenames in os.walk('/kaggle/input'):\n",
    "    for filename in filenames:\n",
    "        print(os.path.join(dirname, filename))\n",
    "\n",
    "# You can write up to 20GB to the current directory (/kaggle/working/) that gets preserved as output when you create a version using \"Save & Run All\" \n",
    "# You can also write temporary files to /kaggle/temp/, but they won't be saved outside of the current session"
   ]
  },
  {
   "cell_type": "markdown",
   "id": "571b1ed9",
   "metadata": {
    "papermill": {
     "duration": 0.00289,
     "end_time": "2024-03-11T18:21:15.791462",
     "exception": false,
     "start_time": "2024-03-11T18:21:15.788572",
     "status": "completed"
    },
    "tags": []
   },
   "source": [
    "# EDA"
   ]
  },
  {
   "cell_type": "code",
   "execution_count": 2,
   "id": "d583ed57",
   "metadata": {
    "execution": {
     "iopub.execute_input": "2024-03-11T18:21:15.799309Z",
     "iopub.status.busy": "2024-03-11T18:21:15.798783Z",
     "iopub.status.idle": "2024-03-11T18:21:15.835782Z",
     "shell.execute_reply": "2024-03-11T18:21:15.834575Z"
    },
    "papermill": {
     "duration": 0.043787,
     "end_time": "2024-03-11T18:21:15.838212",
     "exception": false,
     "start_time": "2024-03-11T18:21:15.794425",
     "status": "completed"
    },
    "tags": []
   },
   "outputs": [
    {
     "data": {
      "text/html": [
       "<div>\n",
       "<style scoped>\n",
       "    .dataframe tbody tr th:only-of-type {\n",
       "        vertical-align: middle;\n",
       "    }\n",
       "\n",
       "    .dataframe tbody tr th {\n",
       "        vertical-align: top;\n",
       "    }\n",
       "\n",
       "    .dataframe thead th {\n",
       "        text-align: right;\n",
       "    }\n",
       "</style>\n",
       "<table border=\"1\" class=\"dataframe\">\n",
       "  <thead>\n",
       "    <tr style=\"text-align: right;\">\n",
       "      <th></th>\n",
       "      <th>ID</th>\n",
       "      <th>Name</th>\n",
       "      <th>Age</th>\n",
       "      <th>Gender</th>\n",
       "      <th>Height(cm)</th>\n",
       "      <th>Weight(kg)</th>\n",
       "      <th>Blood Pressure(mmHg)</th>\n",
       "      <th>Cholesterol(mg/dL)</th>\n",
       "      <th>Glucose(mg/dL)</th>\n",
       "      <th>Smoker</th>\n",
       "      <th>Exercise(hours/week)</th>\n",
       "      <th>Heart Attack</th>\n",
       "    </tr>\n",
       "  </thead>\n",
       "  <tbody>\n",
       "    <tr>\n",
       "      <th>0</th>\n",
       "      <td>1</td>\n",
       "      <td>John Doe</td>\n",
       "      <td>45</td>\n",
       "      <td>Male</td>\n",
       "      <td>175</td>\n",
       "      <td>80</td>\n",
       "      <td>120/80</td>\n",
       "      <td>200</td>\n",
       "      <td>90</td>\n",
       "      <td>No</td>\n",
       "      <td>3</td>\n",
       "      <td>0</td>\n",
       "    </tr>\n",
       "    <tr>\n",
       "      <th>1</th>\n",
       "      <td>2</td>\n",
       "      <td>Jane Smith</td>\n",
       "      <td>35</td>\n",
       "      <td>Female</td>\n",
       "      <td>160</td>\n",
       "      <td>65</td>\n",
       "      <td>110/70</td>\n",
       "      <td>180</td>\n",
       "      <td>80</td>\n",
       "      <td>No</td>\n",
       "      <td>2</td>\n",
       "      <td>0</td>\n",
       "    </tr>\n",
       "    <tr>\n",
       "      <th>2</th>\n",
       "      <td>3</td>\n",
       "      <td>Michael Johnson</td>\n",
       "      <td>55</td>\n",
       "      <td>Male</td>\n",
       "      <td>180</td>\n",
       "      <td>85</td>\n",
       "      <td>130/85</td>\n",
       "      <td>220</td>\n",
       "      <td>95</td>\n",
       "      <td>Yes</td>\n",
       "      <td>4</td>\n",
       "      <td>1</td>\n",
       "    </tr>\n",
       "  </tbody>\n",
       "</table>\n",
       "</div>"
      ],
      "text/plain": [
       "   ID             Name  Age  Gender  Height(cm)  Weight(kg)  \\\n",
       "0   1         John Doe   45    Male         175          80   \n",
       "1   2       Jane Smith   35  Female         160          65   \n",
       "2   3  Michael Johnson   55    Male         180          85   \n",
       "\n",
       "  Blood Pressure(mmHg)  Cholesterol(mg/dL)  Glucose(mg/dL) Smoker  \\\n",
       "0               120/80                 200              90     No   \n",
       "1               110/70                 180              80     No   \n",
       "2               130/85                 220              95    Yes   \n",
       "\n",
       "   Exercise(hours/week)  Heart Attack  \n",
       "0                     3             0  \n",
       "1                     2             0  \n",
       "2                     4             1  "
      ]
     },
     "execution_count": 2,
     "metadata": {},
     "output_type": "execute_result"
    }
   ],
   "source": [
    "df = pd.read_csv('/kaggle/input/heart-health-stats-dataset/Heart_health.csv')\n",
    "df.head(3)"
   ]
  },
  {
   "cell_type": "code",
   "execution_count": 3,
   "id": "29f77928",
   "metadata": {
    "execution": {
     "iopub.execute_input": "2024-03-11T18:21:15.848060Z",
     "iopub.status.busy": "2024-03-11T18:21:15.847199Z",
     "iopub.status.idle": "2024-03-11T18:21:15.867518Z",
     "shell.execute_reply": "2024-03-11T18:21:15.866563Z"
    },
    "papermill": {
     "duration": 0.027876,
     "end_time": "2024-03-11T18:21:15.869804",
     "exception": false,
     "start_time": "2024-03-11T18:21:15.841928",
     "status": "completed"
    },
    "tags": []
   },
   "outputs": [
    {
     "data": {
      "text/html": [
       "<div>\n",
       "<style scoped>\n",
       "    .dataframe tbody tr th:only-of-type {\n",
       "        vertical-align: middle;\n",
       "    }\n",
       "\n",
       "    .dataframe tbody tr th {\n",
       "        vertical-align: top;\n",
       "    }\n",
       "\n",
       "    .dataframe thead th {\n",
       "        text-align: right;\n",
       "    }\n",
       "</style>\n",
       "<table border=\"1\" class=\"dataframe\">\n",
       "  <thead>\n",
       "    <tr style=\"text-align: right;\">\n",
       "      <th></th>\n",
       "      <th>Age</th>\n",
       "      <th>Gender</th>\n",
       "      <th>Height(cm)</th>\n",
       "      <th>Weight(kg)</th>\n",
       "      <th>Blood Pressure(mmHg)</th>\n",
       "      <th>Cholesterol(mg/dL)</th>\n",
       "      <th>Glucose(mg/dL)</th>\n",
       "      <th>Smoker</th>\n",
       "      <th>Exercise(hours/week)</th>\n",
       "      <th>Heart Attack</th>\n",
       "    </tr>\n",
       "  </thead>\n",
       "  <tbody>\n",
       "    <tr>\n",
       "      <th>0</th>\n",
       "      <td>45</td>\n",
       "      <td>Male</td>\n",
       "      <td>175</td>\n",
       "      <td>80</td>\n",
       "      <td>120/80</td>\n",
       "      <td>200</td>\n",
       "      <td>90</td>\n",
       "      <td>No</td>\n",
       "      <td>3</td>\n",
       "      <td>0</td>\n",
       "    </tr>\n",
       "    <tr>\n",
       "      <th>1</th>\n",
       "      <td>35</td>\n",
       "      <td>Female</td>\n",
       "      <td>160</td>\n",
       "      <td>65</td>\n",
       "      <td>110/70</td>\n",
       "      <td>180</td>\n",
       "      <td>80</td>\n",
       "      <td>No</td>\n",
       "      <td>2</td>\n",
       "      <td>0</td>\n",
       "    </tr>\n",
       "    <tr>\n",
       "      <th>2</th>\n",
       "      <td>55</td>\n",
       "      <td>Male</td>\n",
       "      <td>180</td>\n",
       "      <td>85</td>\n",
       "      <td>130/85</td>\n",
       "      <td>220</td>\n",
       "      <td>95</td>\n",
       "      <td>Yes</td>\n",
       "      <td>4</td>\n",
       "      <td>1</td>\n",
       "    </tr>\n",
       "  </tbody>\n",
       "</table>\n",
       "</div>"
      ],
      "text/plain": [
       "   Age  Gender  Height(cm)  Weight(kg) Blood Pressure(mmHg)  \\\n",
       "0   45    Male         175          80               120/80   \n",
       "1   35  Female         160          65               110/70   \n",
       "2   55    Male         180          85               130/85   \n",
       "\n",
       "   Cholesterol(mg/dL)  Glucose(mg/dL) Smoker  Exercise(hours/week)  \\\n",
       "0                 200              90     No                     3   \n",
       "1                 180              80     No                     2   \n",
       "2                 220              95    Yes                     4   \n",
       "\n",
       "   Heart Attack  \n",
       "0             0  \n",
       "1             0  \n",
       "2             1  "
      ]
     },
     "execution_count": 3,
     "metadata": {},
     "output_type": "execute_result"
    }
   ],
   "source": [
    "# Remove non-essential columns (patient names and ID)\n",
    "df = df.drop(columns=['ID', 'Name'])\n",
    "df.head(3)"
   ]
  },
  {
   "cell_type": "code",
   "execution_count": 4,
   "id": "2da76fc3",
   "metadata": {
    "execution": {
     "iopub.execute_input": "2024-03-11T18:21:15.879487Z",
     "iopub.status.busy": "2024-03-11T18:21:15.879150Z",
     "iopub.status.idle": "2024-03-11T18:21:15.886406Z",
     "shell.execute_reply": "2024-03-11T18:21:15.885290Z"
    },
    "papermill": {
     "duration": 0.015778,
     "end_time": "2024-03-11T18:21:15.890177",
     "exception": false,
     "start_time": "2024-03-11T18:21:15.874399",
     "status": "completed"
    },
    "tags": []
   },
   "outputs": [
    {
     "name": "stdout",
     "output_type": "stream",
     "text": [
      "The shape of the table: (724, 10)\n",
      "The columns and their types are \n",
      " Age                      int64\n",
      "Gender                  object\n",
      "Height(cm)               int64\n",
      "Weight(kg)               int64\n",
      "Blood Pressure(mmHg)    object\n",
      "Cholesterol(mg/dL)       int64\n",
      "Glucose(mg/dL)           int64\n",
      "Smoker                  object\n",
      "Exercise(hours/week)     int64\n",
      "Heart Attack             int64\n",
      "dtype: object\n"
     ]
    }
   ],
   "source": [
    "print('The shape of the table: {}'.format(df.shape))\n",
    "print('The columns and their types are \\n {}'.format(df.dtypes))"
   ]
  },
  {
   "cell_type": "code",
   "execution_count": 5,
   "id": "0870abf0",
   "metadata": {
    "execution": {
     "iopub.execute_input": "2024-03-11T18:21:15.899159Z",
     "iopub.status.busy": "2024-03-11T18:21:15.898793Z",
     "iopub.status.idle": "2024-03-11T18:21:15.934214Z",
     "shell.execute_reply": "2024-03-11T18:21:15.933062Z"
    },
    "papermill": {
     "duration": 0.042984,
     "end_time": "2024-03-11T18:21:15.937032",
     "exception": false,
     "start_time": "2024-03-11T18:21:15.894048",
     "status": "completed"
    },
    "tags": []
   },
   "outputs": [
    {
     "data": {
      "text/html": [
       "<div>\n",
       "<style scoped>\n",
       "    .dataframe tbody tr th:only-of-type {\n",
       "        vertical-align: middle;\n",
       "    }\n",
       "\n",
       "    .dataframe tbody tr th {\n",
       "        vertical-align: top;\n",
       "    }\n",
       "\n",
       "    .dataframe thead th {\n",
       "        text-align: right;\n",
       "    }\n",
       "</style>\n",
       "<table border=\"1\" class=\"dataframe\">\n",
       "  <thead>\n",
       "    <tr style=\"text-align: right;\">\n",
       "      <th></th>\n",
       "      <th>Age</th>\n",
       "      <th>Height(cm)</th>\n",
       "      <th>Weight(kg)</th>\n",
       "      <th>Cholesterol(mg/dL)</th>\n",
       "      <th>Glucose(mg/dL)</th>\n",
       "      <th>Exercise(hours/week)</th>\n",
       "      <th>Heart Attack</th>\n",
       "    </tr>\n",
       "  </thead>\n",
       "  <tbody>\n",
       "    <tr>\n",
       "      <th>count</th>\n",
       "      <td>724.000000</td>\n",
       "      <td>724.000000</td>\n",
       "      <td>724.000000</td>\n",
       "      <td>724.000000</td>\n",
       "      <td>724.000000</td>\n",
       "      <td>724.000000</td>\n",
       "      <td>724.000000</td>\n",
       "    </tr>\n",
       "    <tr>\n",
       "      <th>mean</th>\n",
       "      <td>44.842541</td>\n",
       "      <td>171.161602</td>\n",
       "      <td>75.610497</td>\n",
       "      <td>206.022099</td>\n",
       "      <td>92.179558</td>\n",
       "      <td>2.770718</td>\n",
       "      <td>0.599448</td>\n",
       "    </tr>\n",
       "    <tr>\n",
       "      <th>std</th>\n",
       "      <td>8.162429</td>\n",
       "      <td>6.242018</td>\n",
       "      <td>6.368595</td>\n",
       "      <td>11.224704</td>\n",
       "      <td>4.662712</td>\n",
       "      <td>0.934907</td>\n",
       "      <td>0.490349</td>\n",
       "    </tr>\n",
       "    <tr>\n",
       "      <th>min</th>\n",
       "      <td>30.000000</td>\n",
       "      <td>155.000000</td>\n",
       "      <td>60.000000</td>\n",
       "      <td>170.000000</td>\n",
       "      <td>75.000000</td>\n",
       "      <td>1.000000</td>\n",
       "      <td>0.000000</td>\n",
       "    </tr>\n",
       "    <tr>\n",
       "      <th>25%</th>\n",
       "      <td>38.000000</td>\n",
       "      <td>166.000000</td>\n",
       "      <td>71.000000</td>\n",
       "      <td>195.000000</td>\n",
       "      <td>88.000000</td>\n",
       "      <td>2.000000</td>\n",
       "      <td>0.000000</td>\n",
       "    </tr>\n",
       "    <tr>\n",
       "      <th>50%</th>\n",
       "      <td>44.000000</td>\n",
       "      <td>170.000000</td>\n",
       "      <td>75.000000</td>\n",
       "      <td>210.000000</td>\n",
       "      <td>92.000000</td>\n",
       "      <td>3.000000</td>\n",
       "      <td>1.000000</td>\n",
       "    </tr>\n",
       "    <tr>\n",
       "      <th>75%</th>\n",
       "      <td>53.000000</td>\n",
       "      <td>177.000000</td>\n",
       "      <td>81.000000</td>\n",
       "      <td>215.000000</td>\n",
       "      <td>96.000000</td>\n",
       "      <td>4.000000</td>\n",
       "      <td>1.000000</td>\n",
       "    </tr>\n",
       "    <tr>\n",
       "      <th>max</th>\n",
       "      <td>60.000000</td>\n",
       "      <td>183.000000</td>\n",
       "      <td>89.000000</td>\n",
       "      <td>230.000000</td>\n",
       "      <td>100.000000</td>\n",
       "      <td>4.000000</td>\n",
       "      <td>1.000000</td>\n",
       "    </tr>\n",
       "  </tbody>\n",
       "</table>\n",
       "</div>"
      ],
      "text/plain": [
       "              Age  Height(cm)  Weight(kg)  Cholesterol(mg/dL)  Glucose(mg/dL)  \\\n",
       "count  724.000000  724.000000  724.000000          724.000000      724.000000   \n",
       "mean    44.842541  171.161602   75.610497          206.022099       92.179558   \n",
       "std      8.162429    6.242018    6.368595           11.224704        4.662712   \n",
       "min     30.000000  155.000000   60.000000          170.000000       75.000000   \n",
       "25%     38.000000  166.000000   71.000000          195.000000       88.000000   \n",
       "50%     44.000000  170.000000   75.000000          210.000000       92.000000   \n",
       "75%     53.000000  177.000000   81.000000          215.000000       96.000000   \n",
       "max     60.000000  183.000000   89.000000          230.000000      100.000000   \n",
       "\n",
       "       Exercise(hours/week)  Heart Attack  \n",
       "count            724.000000    724.000000  \n",
       "mean               2.770718      0.599448  \n",
       "std                0.934907      0.490349  \n",
       "min                1.000000      0.000000  \n",
       "25%                2.000000      0.000000  \n",
       "50%                3.000000      1.000000  \n",
       "75%                4.000000      1.000000  \n",
       "max                4.000000      1.000000  "
      ]
     },
     "execution_count": 5,
     "metadata": {},
     "output_type": "execute_result"
    }
   ],
   "source": [
    "df.describe()"
   ]
  }
 ],
 "metadata": {
  "kaggle": {
   "accelerator": "none",
   "dataSources": [
    {
     "datasetId": 4499807,
     "sourceId": 7707150,
     "sourceType": "datasetVersion"
    }
   ],
   "dockerImageVersionId": 30664,
   "isGpuEnabled": false,
   "isInternetEnabled": true,
   "language": "python",
   "sourceType": "notebook"
  },
  "kernelspec": {
   "display_name": "Python 3",
   "language": "python",
   "name": "python3"
  },
  "language_info": {
   "codemirror_mode": {
    "name": "ipython",
    "version": 3
   },
   "file_extension": ".py",
   "mimetype": "text/x-python",
   "name": "python",
   "nbconvert_exporter": "python",
   "pygments_lexer": "ipython3",
   "version": "3.10.13"
  },
  "papermill": {
   "default_parameters": {},
   "duration": 4.455744,
   "end_time": "2024-03-11T18:21:16.361433",
   "environment_variables": {},
   "exception": null,
   "input_path": "__notebook__.ipynb",
   "output_path": "__notebook__.ipynb",
   "parameters": {},
   "start_time": "2024-03-11T18:21:11.905689",
   "version": "2.5.0"
  }
 },
 "nbformat": 4,
 "nbformat_minor": 5
}
